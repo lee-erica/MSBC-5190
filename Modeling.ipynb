{
  "cells": [
    {
      "cell_type": "markdown",
      "metadata": {
        "id": "ewdA4fF-scGL"
      },
      "source": [
        "#Import Data\n",
        "Importing the data and then splitting the data into training and test sets. Inorder for followng code to work make sure the [dataset](https://drive.google.com/file/d/1a6zV8PFF81JqpU6scGqyQNZYXjkK9M1u/view?usp=sharing) is in your main drive folder."
      ]
    },
    {
      "cell_type": "code",
      "execution_count": null,
      "metadata": {
        "colab": {
          "base_uri": "https://localhost:8080/"
        },
        "id": "DaRLAuzxqacF",
        "outputId": "e51e8adc-1bb3-4e8a-cb9e-616305073191"
      },
      "outputs": [
        {
          "output_type": "stream",
          "name": "stdout",
          "text": [
            "Mounted at /content/drive\n"
          ]
        }
      ],
      "source": [
        "from google.colab import drive\n",
        "drive.mount('/content/drive')"
      ]
    },
    {
      "cell_type": "code",
      "execution_count": null,
      "metadata": {
        "colab": {
          "base_uri": "https://localhost:8080/",
          "height": 206
        },
        "id": "oi5SUUPhuaK4",
        "outputId": "6db5ff15-4d0d-4c87-83b7-1030c9764b34"
      },
      "outputs": [
        {
          "output_type": "execute_result",
          "data": {
            "text/plain": [
              "   Unnamed: 0 label                                               text  \\\n",
              "0         605   ham  Subject: enron methanol ; meter # : 988291\\r\\n...   \n",
              "1        2349   ham  Subject: hpl nom for january 9 , 2001\\r\\n( see...   \n",
              "2        3624   ham  Subject: neon retreat\\r\\nho ho ho , we ' re ar...   \n",
              "3        4685  spam  Subject: photoshop , windows , office . cheap ...   \n",
              "4        2030   ham  Subject: re : indian springs\\r\\nthis deal is t...   \n",
              "\n",
              "   label_num  \n",
              "0          0  \n",
              "1          0  \n",
              "2          0  \n",
              "3          1  \n",
              "4          0  "
            ],
            "text/html": [
              "\n",
              "  <div id=\"df-2ef5054f-fc4c-48b0-a97b-353e5012d706\">\n",
              "    <div class=\"colab-df-container\">\n",
              "      <div>\n",
              "<style scoped>\n",
              "    .dataframe tbody tr th:only-of-type {\n",
              "        vertical-align: middle;\n",
              "    }\n",
              "\n",
              "    .dataframe tbody tr th {\n",
              "        vertical-align: top;\n",
              "    }\n",
              "\n",
              "    .dataframe thead th {\n",
              "        text-align: right;\n",
              "    }\n",
              "</style>\n",
              "<table border=\"1\" class=\"dataframe\">\n",
              "  <thead>\n",
              "    <tr style=\"text-align: right;\">\n",
              "      <th></th>\n",
              "      <th>Unnamed: 0</th>\n",
              "      <th>label</th>\n",
              "      <th>text</th>\n",
              "      <th>label_num</th>\n",
              "    </tr>\n",
              "  </thead>\n",
              "  <tbody>\n",
              "    <tr>\n",
              "      <th>0</th>\n",
              "      <td>605</td>\n",
              "      <td>ham</td>\n",
              "      <td>Subject: enron methanol ; meter # : 988291\\r\\n...</td>\n",
              "      <td>0</td>\n",
              "    </tr>\n",
              "    <tr>\n",
              "      <th>1</th>\n",
              "      <td>2349</td>\n",
              "      <td>ham</td>\n",
              "      <td>Subject: hpl nom for january 9 , 2001\\r\\n( see...</td>\n",
              "      <td>0</td>\n",
              "    </tr>\n",
              "    <tr>\n",
              "      <th>2</th>\n",
              "      <td>3624</td>\n",
              "      <td>ham</td>\n",
              "      <td>Subject: neon retreat\\r\\nho ho ho , we ' re ar...</td>\n",
              "      <td>0</td>\n",
              "    </tr>\n",
              "    <tr>\n",
              "      <th>3</th>\n",
              "      <td>4685</td>\n",
              "      <td>spam</td>\n",
              "      <td>Subject: photoshop , windows , office . cheap ...</td>\n",
              "      <td>1</td>\n",
              "    </tr>\n",
              "    <tr>\n",
              "      <th>4</th>\n",
              "      <td>2030</td>\n",
              "      <td>ham</td>\n",
              "      <td>Subject: re : indian springs\\r\\nthis deal is t...</td>\n",
              "      <td>0</td>\n",
              "    </tr>\n",
              "  </tbody>\n",
              "</table>\n",
              "</div>\n",
              "      <button class=\"colab-df-convert\" onclick=\"convertToInteractive('df-2ef5054f-fc4c-48b0-a97b-353e5012d706')\"\n",
              "              title=\"Convert this dataframe to an interactive table.\"\n",
              "              style=\"display:none;\">\n",
              "        \n",
              "  <svg xmlns=\"http://www.w3.org/2000/svg\" height=\"24px\"viewBox=\"0 0 24 24\"\n",
              "       width=\"24px\">\n",
              "    <path d=\"M0 0h24v24H0V0z\" fill=\"none\"/>\n",
              "    <path d=\"M18.56 5.44l.94 2.06.94-2.06 2.06-.94-2.06-.94-.94-2.06-.94 2.06-2.06.94zm-11 1L8.5 8.5l.94-2.06 2.06-.94-2.06-.94L8.5 2.5l-.94 2.06-2.06.94zm10 10l.94 2.06.94-2.06 2.06-.94-2.06-.94-.94-2.06-.94 2.06-2.06.94z\"/><path d=\"M17.41 7.96l-1.37-1.37c-.4-.4-.92-.59-1.43-.59-.52 0-1.04.2-1.43.59L10.3 9.45l-7.72 7.72c-.78.78-.78 2.05 0 2.83L4 21.41c.39.39.9.59 1.41.59.51 0 1.02-.2 1.41-.59l7.78-7.78 2.81-2.81c.8-.78.8-2.07 0-2.86zM5.41 20L4 18.59l7.72-7.72 1.47 1.35L5.41 20z\"/>\n",
              "  </svg>\n",
              "      </button>\n",
              "      \n",
              "  <style>\n",
              "    .colab-df-container {\n",
              "      display:flex;\n",
              "      flex-wrap:wrap;\n",
              "      gap: 12px;\n",
              "    }\n",
              "\n",
              "    .colab-df-convert {\n",
              "      background-color: #E8F0FE;\n",
              "      border: none;\n",
              "      border-radius: 50%;\n",
              "      cursor: pointer;\n",
              "      display: none;\n",
              "      fill: #1967D2;\n",
              "      height: 32px;\n",
              "      padding: 0 0 0 0;\n",
              "      width: 32px;\n",
              "    }\n",
              "\n",
              "    .colab-df-convert:hover {\n",
              "      background-color: #E2EBFA;\n",
              "      box-shadow: 0px 1px 2px rgba(60, 64, 67, 0.3), 0px 1px 3px 1px rgba(60, 64, 67, 0.15);\n",
              "      fill: #174EA6;\n",
              "    }\n",
              "\n",
              "    [theme=dark] .colab-df-convert {\n",
              "      background-color: #3B4455;\n",
              "      fill: #D2E3FC;\n",
              "    }\n",
              "\n",
              "    [theme=dark] .colab-df-convert:hover {\n",
              "      background-color: #434B5C;\n",
              "      box-shadow: 0px 1px 3px 1px rgba(0, 0, 0, 0.15);\n",
              "      filter: drop-shadow(0px 1px 2px rgba(0, 0, 0, 0.3));\n",
              "      fill: #FFFFFF;\n",
              "    }\n",
              "  </style>\n",
              "\n",
              "      <script>\n",
              "        const buttonEl =\n",
              "          document.querySelector('#df-2ef5054f-fc4c-48b0-a97b-353e5012d706 button.colab-df-convert');\n",
              "        buttonEl.style.display =\n",
              "          google.colab.kernel.accessAllowed ? 'block' : 'none';\n",
              "\n",
              "        async function convertToInteractive(key) {\n",
              "          const element = document.querySelector('#df-2ef5054f-fc4c-48b0-a97b-353e5012d706');\n",
              "          const dataTable =\n",
              "            await google.colab.kernel.invokeFunction('convertToInteractive',\n",
              "                                                     [key], {});\n",
              "          if (!dataTable) return;\n",
              "\n",
              "          const docLinkHtml = 'Like what you see? Visit the ' +\n",
              "            '<a target=\"_blank\" href=https://colab.research.google.com/notebooks/data_table.ipynb>data table notebook</a>'\n",
              "            + ' to learn more about interactive tables.';\n",
              "          element.innerHTML = '';\n",
              "          dataTable['output_type'] = 'display_data';\n",
              "          await google.colab.output.renderOutput(dataTable, element);\n",
              "          const docLink = document.createElement('div');\n",
              "          docLink.innerHTML = docLinkHtml;\n",
              "          element.appendChild(docLink);\n",
              "        }\n",
              "      </script>\n",
              "    </div>\n",
              "  </div>\n",
              "  "
            ]
          },
          "metadata": {},
          "execution_count": 2
        }
      ],
      "source": [
        "import pandas as pd\n",
        "import numpy as np\n",
        "\n",
        "dataset = pd.read_csv('drive/My Drive/spam_ham_dataset.csv')\n",
        "dataset.head(5)"
      ]
    },
    {
      "cell_type": "code",
      "execution_count": null,
      "metadata": {
        "colab": {
          "base_uri": "https://localhost:8080/"
        },
        "id": "J2apyw7eV6Qy",
        "outputId": "8ded9717-469b-4b59-8f65-f18cc64e0160"
      },
      "outputs": [
        {
          "output_type": "execute_result",
          "data": {
            "text/plain": [
              "Unnamed: 0     int64\n",
              "label         object\n",
              "text          object\n",
              "label_num      int64\n",
              "dtype: object"
            ]
          },
          "metadata": {},
          "execution_count": 4
        }
      ],
      "source": [
        "dataset.dtypes"
      ]
    },
    {
      "cell_type": "code",
      "execution_count": null,
      "metadata": {
        "colab": {
          "base_uri": "https://localhost:8080/"
        },
        "id": "_2Ih_MHwu380",
        "outputId": "d8581328-ff8a-46df-cf29-e51c885c34e5"
      },
      "outputs": [
        {
          "output_type": "stream",
          "name": "stdout",
          "text": [
            "Train Shape: (3619, 1)\n",
            "Test Shape:  (1552, 1)\n"
          ]
        }
      ],
      "source": [
        "from sklearn.model_selection import train_test_split\n",
        "\n",
        "X = dataset[['text']]\n",
        "y = dataset['label']\n",
        "\n",
        "X_train, X_test, y_train, y_test = train_test_split(X, y, test_size=0.3, random_state=888)\n",
        "print('Train Shape:', X_train.shape)\n",
        "print('Test Shape: ', X_test.shape)"
      ]
    },
    {
      "cell_type": "markdown",
      "metadata": {
        "id": "62r98wtj18XA"
      },
      "source": [
        "##Jack's Modeling Section\n",
        "\n",
        "I referenced [this](https://www.kaggle.com/code/nagasai524/spam-email-classification-using-word2vec) users' code when constructing my models for implementing a word2vec with the data."
      ]
    },
    {
      "cell_type": "markdown",
      "metadata": {
        "id": "p1pUxNhQvv_0"
      },
      "source": [
        "###Prepocessing of data"
      ]
    },
    {
      "cell_type": "code",
      "execution_count": null,
      "metadata": {
        "colab": {
          "base_uri": "https://localhost:8080/"
        },
        "id": "eUXLSEPtZuHe",
        "outputId": "b0f7452f-c9dc-4384-ebb3-7de29b2a61c3"
      },
      "outputs": [
        {
          "name": "stdout",
          "output_type": "stream",
          "text": [
            "Collecting contractions\n",
            "  Downloading contractions-0.1.68-py2.py3-none-any.whl (8.1 kB)\n",
            "Collecting textsearch>=0.0.21\n",
            "  Downloading textsearch-0.0.21-py2.py3-none-any.whl (7.5 kB)\n",
            "Collecting anyascii\n",
            "  Downloading anyascii-0.3.1-py3-none-any.whl (287 kB)\n",
            "\u001b[K     |████████████████████████████████| 287 kB 4.1 MB/s \n",
            "\u001b[?25hCollecting pyahocorasick\n",
            "  Downloading pyahocorasick-1.4.4-cp37-cp37m-manylinux_2_17_x86_64.manylinux2014_x86_64.whl (106 kB)\n",
            "\u001b[K     |████████████████████████████████| 106 kB 57.2 MB/s \n",
            "\u001b[?25hInstalling collected packages: pyahocorasick, anyascii, textsearch, contractions\n",
            "Successfully installed anyascii-0.3.1 contractions-0.1.68 pyahocorasick-1.4.4 textsearch-0.0.21\n"
          ]
        }
      ],
      "source": [
        "!pip install contractions"
      ]
    },
    {
      "cell_type": "code",
      "execution_count": null,
      "metadata": {
        "id": "e7P26uematId"
      },
      "outputs": [],
      "source": [
        "import contractions\n",
        "#contractions is the package in python used to expand the contractions in english language to their original form. Example: I'll to \"I will\"\n",
        "from tqdm import tqdm\n",
        "#tqdm package is used to track the progress of work. It displays the percentage of loop done.\n",
        "import nltk\n",
        "#nltk is a suite of libraries that are mainly used for dealing with problems related to Natural language processing.\n",
        "import re\n",
        "nltk.download('stopwords')\n",
        "from nltk.corpus import stopwords\n",
        "#donwloadin the stopwords of english language\n",
        "stopwords=stopwords.words('english')\n",
        "#Removing stopwords 'no','nor' and 'not'\n",
        "stopwords.remove('no')\n",
        "stopwords.remove('nor')\n",
        "stopwords.remove('not')"
      ]
    },
    {
      "cell_type": "code",
      "execution_count": null,
      "metadata": {
        "colab": {
          "base_uri": "https://localhost:8080/"
        },
        "id": "QxIkkzfya0wI",
        "outputId": "8df32045-008f-4472-eefb-5e3ec53e93fa"
      },
      "outputs": [
        {
          "name": "stderr",
          "output_type": "stream",
          "text": [
            "100%|██████████| 5171/5171 [00:05<00:00, 967.24it/s]\n"
          ]
        }
      ],
      "source": [
        "processed_mails=[]\n",
        "for i in tqdm(dataset['text']):\n",
        "    #Regular expression that removes all the html tags pressent in the reviews\n",
        "    i=re.sub('(<[\\w\\s]*/?>)',\"\",i)\n",
        "    #Expanding all the contractions present in the review to is respective actual form\n",
        "    i=contractions.fix(i)\n",
        "    #Removing all the special charactesrs from the review text\n",
        "    i=re.sub('[^a-zA-Z0-9\\s]+',\"\",i)\n",
        "    #Removing all the digits present in the review text\n",
        "    i=re.sub('\\d+',\"\",i)\n",
        "    #Making all the review text to be of lower case as well as removing the stopwords and words of length less than 3\n",
        "    processed_mails.append(\" \".join([j.lower() for j in i.split() if j not in stopwords and len(j)>=3]))"
      ]
    },
    {
      "cell_type": "code",
      "execution_count": null,
      "metadata": {
        "colab": {
          "base_uri": "https://localhost:8080/",
          "height": 206
        },
        "id": "eJw1OuUQa6hH",
        "outputId": "21c45b17-2784-4cf5-ffd9-0115e1183863"
      },
      "outputs": [
        {
          "data": {
            "text/html": [
              "\n",
              "  <div id=\"df-c1f2a8ae-d06c-4608-826e-269bb35075e4\">\n",
              "    <div class=\"colab-df-container\">\n",
              "      <div>\n",
              "<style scoped>\n",
              "    .dataframe tbody tr th:only-of-type {\n",
              "        vertical-align: middle;\n",
              "    }\n",
              "\n",
              "    .dataframe tbody tr th {\n",
              "        vertical-align: top;\n",
              "    }\n",
              "\n",
              "    .dataframe thead th {\n",
              "        text-align: right;\n",
              "    }\n",
              "</style>\n",
              "<table border=\"1\" class=\"dataframe\">\n",
              "  <thead>\n",
              "    <tr style=\"text-align: right;\">\n",
              "      <th></th>\n",
              "      <th>text</th>\n",
              "      <th>Spam/Ham</th>\n",
              "    </tr>\n",
              "  </thead>\n",
              "  <tbody>\n",
              "    <tr>\n",
              "      <th>0</th>\n",
              "      <td>subject enron methanol meter follow note gave ...</td>\n",
              "      <td>0</td>\n",
              "    </tr>\n",
              "    <tr>\n",
              "      <th>1</th>\n",
              "      <td>subject hpl nom january see attached file hpln...</td>\n",
              "      <td>0</td>\n",
              "    </tr>\n",
              "    <tr>\n",
              "      <th>2</th>\n",
              "      <td>subject neon retreat around wonderful time yea...</td>\n",
              "      <td>0</td>\n",
              "    </tr>\n",
              "    <tr>\n",
              "      <th>3</th>\n",
              "      <td>subject photoshop windows office cheap main tr...</td>\n",
              "      <td>1</td>\n",
              "    </tr>\n",
              "    <tr>\n",
              "      <th>4</th>\n",
              "      <td>subject indian springs deal book teco pvr reve...</td>\n",
              "      <td>0</td>\n",
              "    </tr>\n",
              "  </tbody>\n",
              "</table>\n",
              "</div>\n",
              "      <button class=\"colab-df-convert\" onclick=\"convertToInteractive('df-c1f2a8ae-d06c-4608-826e-269bb35075e4')\"\n",
              "              title=\"Convert this dataframe to an interactive table.\"\n",
              "              style=\"display:none;\">\n",
              "        \n",
              "  <svg xmlns=\"http://www.w3.org/2000/svg\" height=\"24px\"viewBox=\"0 0 24 24\"\n",
              "       width=\"24px\">\n",
              "    <path d=\"M0 0h24v24H0V0z\" fill=\"none\"/>\n",
              "    <path d=\"M18.56 5.44l.94 2.06.94-2.06 2.06-.94-2.06-.94-.94-2.06-.94 2.06-2.06.94zm-11 1L8.5 8.5l.94-2.06 2.06-.94-2.06-.94L8.5 2.5l-.94 2.06-2.06.94zm10 10l.94 2.06.94-2.06 2.06-.94-2.06-.94-.94-2.06-.94 2.06-2.06.94z\"/><path d=\"M17.41 7.96l-1.37-1.37c-.4-.4-.92-.59-1.43-.59-.52 0-1.04.2-1.43.59L10.3 9.45l-7.72 7.72c-.78.78-.78 2.05 0 2.83L4 21.41c.39.39.9.59 1.41.59.51 0 1.02-.2 1.41-.59l7.78-7.78 2.81-2.81c.8-.78.8-2.07 0-2.86zM5.41 20L4 18.59l7.72-7.72 1.47 1.35L5.41 20z\"/>\n",
              "  </svg>\n",
              "      </button>\n",
              "      \n",
              "  <style>\n",
              "    .colab-df-container {\n",
              "      display:flex;\n",
              "      flex-wrap:wrap;\n",
              "      gap: 12px;\n",
              "    }\n",
              "\n",
              "    .colab-df-convert {\n",
              "      background-color: #E8F0FE;\n",
              "      border: none;\n",
              "      border-radius: 50%;\n",
              "      cursor: pointer;\n",
              "      display: none;\n",
              "      fill: #1967D2;\n",
              "      height: 32px;\n",
              "      padding: 0 0 0 0;\n",
              "      width: 32px;\n",
              "    }\n",
              "\n",
              "    .colab-df-convert:hover {\n",
              "      background-color: #E2EBFA;\n",
              "      box-shadow: 0px 1px 2px rgba(60, 64, 67, 0.3), 0px 1px 3px 1px rgba(60, 64, 67, 0.15);\n",
              "      fill: #174EA6;\n",
              "    }\n",
              "\n",
              "    [theme=dark] .colab-df-convert {\n",
              "      background-color: #3B4455;\n",
              "      fill: #D2E3FC;\n",
              "    }\n",
              "\n",
              "    [theme=dark] .colab-df-convert:hover {\n",
              "      background-color: #434B5C;\n",
              "      box-shadow: 0px 1px 3px 1px rgba(0, 0, 0, 0.15);\n",
              "      filter: drop-shadow(0px 1px 2px rgba(0, 0, 0, 0.3));\n",
              "      fill: #FFFFFF;\n",
              "    }\n",
              "  </style>\n",
              "\n",
              "      <script>\n",
              "        const buttonEl =\n",
              "          document.querySelector('#df-c1f2a8ae-d06c-4608-826e-269bb35075e4 button.colab-df-convert');\n",
              "        buttonEl.style.display =\n",
              "          google.colab.kernel.accessAllowed ? 'block' : 'none';\n",
              "\n",
              "        async function convertToInteractive(key) {\n",
              "          const element = document.querySelector('#df-c1f2a8ae-d06c-4608-826e-269bb35075e4');\n",
              "          const dataTable =\n",
              "            await google.colab.kernel.invokeFunction('convertToInteractive',\n",
              "                                                     [key], {});\n",
              "          if (!dataTable) return;\n",
              "\n",
              "          const docLinkHtml = 'Like what you see? Visit the ' +\n",
              "            '<a target=\"_blank\" href=https://colab.research.google.com/notebooks/data_table.ipynb>data table notebook</a>'\n",
              "            + ' to learn more about interactive tables.';\n",
              "          element.innerHTML = '';\n",
              "          dataTable['output_type'] = 'display_data';\n",
              "          await google.colab.output.renderOutput(dataTable, element);\n",
              "          const docLink = document.createElement('div');\n",
              "          docLink.innerHTML = docLinkHtml;\n",
              "          element.appendChild(docLink);\n",
              "        }\n",
              "      </script>\n",
              "    </div>\n",
              "  </div>\n",
              "  "
            ],
            "text/plain": [
              "                                                text  Spam/Ham\n",
              "0  subject enron methanol meter follow note gave ...         0\n",
              "1  subject hpl nom january see attached file hpln...         0\n",
              "2  subject neon retreat around wonderful time yea...         0\n",
              "3  subject photoshop windows office cheap main tr...         1\n",
              "4  subject indian springs deal book teco pvr reve...         0"
            ]
          },
          "execution_count": 27,
          "metadata": {},
          "output_type": "execute_result"
        }
      ],
      "source": [
        "#Creating a new datafram using the Processed Reviews\n",
        "processed_df=pd.DataFrame({'text':processed_mails,'Spam/Ham':list(dataset['label_num'])})\n",
        "processed_df.head()"
      ]
    },
    {
      "cell_type": "code",
      "execution_count": null,
      "metadata": {
        "id": "Dm583GqTa7Wh"
      },
      "outputs": [],
      "source": [
        "#Splitting the data into dependent and independent variables i.e, features and the target columns\n",
        "X=processed_df['text']\n",
        "Y=processed_df['Spam/Ham']\n",
        "#Splitting the data such that 33% will be used for testing and the remaining 67% will be used for training. \n",
        "from sklearn.model_selection import train_test_split\n",
        "x_train,x_test,y_train,y_test=train_test_split(X,Y,stratify=Y,test_size=0.3, random_state=888)\n",
        "#when stratify is provided the splitting of data into train and test datasets agree with the composition of actual possitive and negative reviews present in the dataset"
      ]
    },
    {
      "cell_type": "code",
      "execution_count": null,
      "metadata": {
        "id": "WJH7Hd69dEgy"
      },
      "outputs": [],
      "source": [
        "from gensim.models import Word2Vec"
      ]
    },
    {
      "cell_type": "code",
      "execution_count": null,
      "metadata": {
        "colab": {
          "base_uri": "https://localhost:8080/"
        },
        "id": "3a9Vw4nhdOpG",
        "outputId": "673f031b-2b45-4024-ba74-8e3a8a644de4"
      },
      "outputs": [
        {
          "name": "stderr",
          "output_type": "stream",
          "text": [
            "100%|██████████| 3619/3619 [00:00<00:00, 51791.78it/s]\n"
          ]
        }
      ],
      "source": [
        "words_in_sentences=[]\n",
        "for i in tqdm(x_train):\n",
        "    words_in_sentences.append(i.split())"
      ]
    },
    {
      "cell_type": "code",
      "execution_count": null,
      "metadata": {
        "colab": {
          "background_save": true
        },
        "id": "4DTo2OzsdRiC"
      },
      "outputs": [],
      "source": [
        "model = Word2Vec(sentences=words_in_sentences, size=200,workers=-1)"
      ]
    },
    {
      "cell_type": "code",
      "execution_count": null,
      "metadata": {
        "colab": {
          "background_save": true,
          "base_uri": "https://localhost:8080/"
        },
        "id": "0YEizfwzdY9R",
        "outputId": "02569752-504e-41f6-bac4-518452ab61a7"
      },
      "outputs": [
        {
          "data": {
            "text/plain": [
              "[('susan', 0.24960918724536896),\n",
              " ('ksign', 0.2354843020439148),\n",
              " ('kri', 0.2193181812763214),\n",
              " ('manual', 0.21208517253398895),\n",
              " ('hurricane', 0.21140602231025696),\n",
              " ('platinum', 0.20669244229793549),\n",
              " ('rivers', 0.20443539321422577),\n",
              " ('expensive', 0.20283722877502441),\n",
              " ('damn', 0.20105822384357452),\n",
              " ('immediately', 0.20058733224868774)]"
            ]
          },
          "execution_count": null,
          "metadata": {},
          "output_type": "execute_result"
        }
      ],
      "source": [
        "model.wv.most_similar('lottery', topn=10)"
      ]
    },
    {
      "cell_type": "code",
      "execution_count": null,
      "metadata": {
        "colab": {
          "background_save": true,
          "base_uri": "https://localhost:8080/"
        },
        "id": "zx1712S5d23k",
        "outputId": "a588a5c7-cf51-48b4-d705-127b2ef30ee1"
      },
      "outputs": [
        {
          "name": "stdout",
          "output_type": "stream",
          "text": [
            "6888\n"
          ]
        }
      ],
      "source": [
        "vocab=list(model.wv.vocab)\n",
        "print(len(vocab))"
      ]
    },
    {
      "cell_type": "code",
      "execution_count": null,
      "metadata": {
        "colab": {
          "background_save": true
        },
        "id": "BxcbuoOFdr9D"
      },
      "outputs": [],
      "source": [
        "def avg_w2vec(sentences):\n",
        "    transformed=[]\n",
        "    for sentence in tqdm(sentences):\n",
        "        count=0\n",
        "        vector=np.zeros(200)\n",
        "        for word in sentence.split():\n",
        "            if word in vocab:\n",
        "                vector+=model.wv.get_vector(word)\n",
        "                count+=1\n",
        "        if count!=0:\n",
        "            vector/=count\n",
        "            transformed.append(vector)\n",
        "        else:\n",
        "            print(sentence)\n",
        "    return np.array(transformed)"
      ]
    },
    {
      "cell_type": "code",
      "execution_count": null,
      "metadata": {
        "colab": {
          "base_uri": "https://localhost:8080/"
        },
        "id": "DU6WDncadukb",
        "outputId": "6954099d-7c60-4446-a143-bd4af4b64ff6"
      },
      "outputs": [
        {
          "name": "stderr",
          "output_type": "stream",
          "text": [
            " 25%|██▌       | 921/3619 [00:16<01:44, 25.81it/s]"
          ]
        }
      ],
      "source": [
        "x_train_transformed=avg_w2vec(x_train)\n",
        "x_test_transformed=avg_w2vec(x_test)"
      ]
    },
    {
      "cell_type": "code",
      "execution_count": null,
      "metadata": {
        "id": "R09BWjLLeu4R"
      },
      "outputs": [],
      "source": [
        "def avg_w2vec(sentences):\n",
        "    transformed=[]\n",
        "    for sentence in tqdm(sentences):\n",
        "        count=0\n",
        "        vector=np.zeros(200)\n",
        "        for word in sentence.split():\n",
        "            if word in vocab:\n",
        "                vector+=model.wv.get_vector(word)\n",
        "                count+=1\n",
        "        if count!=0:\n",
        "            vector/=count\n",
        "            transformed.append(vector)\n",
        "        else:\n",
        "            print(sentence)\n",
        "    return np.array(transformed)"
      ]
    },
    {
      "cell_type": "code",
      "execution_count": null,
      "metadata": {
        "id": "Y2koAYUJeyWG"
      },
      "outputs": [],
      "source": [
        "x_train_transformed=avg_w2vec(x_train)\n",
        "x_test_transformed=avg_w2vec(x_test)"
      ]
    },
    {
      "cell_type": "markdown",
      "metadata": {
        "id": "IqIiQ7YmwD_9"
      },
      "source": [
        "###Models"
      ]
    },
    {
      "cell_type": "code",
      "execution_count": null,
      "metadata": {
        "id": "Xz_nFjoZquY2"
      },
      "outputs": [],
      "source": [
        "from sklearn.model_selection import GridSearchCV, RepeatedStratifiedKFold\n",
        "from sklearn.linear_model import LogisticRegression\n",
        "grid_params = {'solver':('newton-cg', 'lbfgs', 'liblinear'), \n",
        "               'penalty':['none', 'l1', 'l2', 'elasticnet'],\n",
        "               'C':[1e-5,1e-4,.001,.01,.1,0,1,10,100]}\n",
        "cv = RepeatedStratifiedKFold(n_splits=10, n_repeats=3, random_state=1)\n",
        "logreg = LogisticRegression()\n",
        "clf1 = GridSearchCV(logreg, grid_params,n_jobs=-1,verbose=1, cv = cv)\n",
        "clf1.fit(x_train_transformed,y_train)"
      ]
    },
    {
      "cell_type": "code",
      "execution_count": null,
      "metadata": {
        "id": "k5mMIVEce6NW"
      },
      "outputs": [],
      "source": [
        "print('Best Params: ',clf1.best_params_)\n",
        "print('Best Score: ', clf1.best_score_)"
      ]
    },
    {
      "cell_type": "code",
      "execution_count": null,
      "metadata": {
        "id": "_vqDopDEe26B"
      },
      "outputs": [],
      "source": [
        "from sklearn.model_selection import GridSearchCV\n",
        "from sklearn.svm import SVC\n",
        "grid_params = {'kernel':('linear', 'rbf', 'sigmoid'),\n",
        "               'C':[.01, .1, 1, 10, 100]}\n",
        "svc = SVC()\n",
        "clf2 = GridSearchCV(svc, grid_params,n_jobs=-1,verbose=1)\n",
        "clf2.fit(x_train_transformed,y_train)"
      ]
    },
    {
      "cell_type": "code",
      "execution_count": null,
      "metadata": {
        "id": "4WOM1lntt7kU"
      },
      "outputs": [],
      "source": [
        "print('Best Params: ',clf2.best_params_)\n",
        "print('Best Score: ', clf2.best_score_)"
      ]
    },
    {
      "cell_type": "code",
      "execution_count": null,
      "metadata": {
        "id": "JA76StI-nFxn"
      },
      "outputs": [],
      "source": [
        "from sklearn.model_selection import GridSearchCV\n",
        "from sklearn.neighbors import KNeighborsClassifier\n",
        "grid_params = { 'n_neighbors' : [5,10,20,30,40,50,60],\n",
        "               'weights':['uniform','distance'],\n",
        "               'metric' : ['manhattan', 'euclidean', 'minkowski']}\n",
        "knn=KNeighborsClassifier()\n",
        "clf3 = GridSearchCV(knn, grid_params,n_jobs=-1,verbose=1)\n",
        "clf3.fit(x_train_transformed,y_train)"
      ]
    },
    {
      "cell_type": "code",
      "execution_count": null,
      "metadata": {
        "id": "eX4DHzGbt9vw"
      },
      "outputs": [],
      "source": [
        "print('Best Params: ',clf3.best_params_)\n",
        "print('Best Score: ', clf3.best_score_)"
      ]
    },
    {
      "cell_type": "markdown",
      "metadata": {
        "id": "ShzpsepnwOi8"
      },
      "source": [
        "###Current Best\n",
        "\n",
        "SVC model with following specifications and accuracies outlined in code blocks."
      ]
    },
    {
      "cell_type": "code",
      "execution_count": null,
      "metadata": {
        "id": "di0KxXjDwRo4"
      },
      "outputs": [],
      "source": [
        "print('Best Params: ',clf2.best_params_)\n",
        "print('Best Score: ', clf2.best_score_)"
      ]
    },
    {
      "cell_type": "code",
      "execution_count": null,
      "metadata": {
        "id": "wNPuXZSgwe9J"
      },
      "outputs": [],
      "source": [
        "import seaborn as sns\n",
        "sns.heatmap(confusion_matrix(y_train,clf2.predict(x_train_transformed)), annot=True)"
      ]
    },
    {
      "cell_type": "code",
      "execution_count": null,
      "metadata": {
        "id": "6I0JWitOw1qX"
      },
      "outputs": [],
      "source": [
        "from sklearn.metrics import roc_curve, auc,classification_report,confusion_matrix\n",
        "print('Train accuracy: \\n', classification_report(y_train,clf2.predict(x_train_transformed)))\n",
        "print('Test accuracy: \\n', classification_report(y_test,clf2.predict(x_test_transformed)))"
      ]
    },
    {
      "cell_type": "code",
      "execution_count": null,
      "metadata": {
        "id": "PglRIZjRk3Uk"
      },
      "outputs": [],
      "source": []
    },
    {
      "cell_type": "markdown",
      "metadata": {
        "id": "R-3i6W53vJjQ"
      },
      "source": [
        "##Erica's Modeling Section\n",
        "\n",
        "I transformed the data with a TF-IDF vectorizer and then I used a Multinomial Naive Bayes classifier. I referenced [this code](https://www.kaggle.com/code/jeffysonar/spam-filter-using-naive-bayes-classifier) for my section.\n",
        "\n",
        "\n"
      ]
    },
    {
      "cell_type": "code",
      "execution_count": null,
      "metadata": {
        "colab": {
          "base_uri": "https://localhost:8080/",
          "height": 206
        },
        "id": "knQL0m5e-mjy",
        "outputId": "3cbd070c-1d9e-4249-fa58-9f6592d799ca"
      },
      "outputs": [
        {
          "output_type": "execute_result",
          "data": {
            "text/plain": [
              "   Unnamed: 0 label                                               text  \\\n",
              "0         605   ham  Subject: enron methanol ; meter # : 988291\\r\\n...   \n",
              "1        2349   ham  Subject: hpl nom for january 9 , 2001\\r\\n( see...   \n",
              "2        3624   ham  Subject: neon retreat\\r\\nho ho ho , we ' re ar...   \n",
              "3        4685  spam  Subject: photoshop , windows , office . cheap ...   \n",
              "4        2030   ham  Subject: re : indian springs\\r\\nthis deal is t...   \n",
              "\n",
              "   label_num  \n",
              "0          0  \n",
              "1          0  \n",
              "2          0  \n",
              "3          1  \n",
              "4          0  "
            ],
            "text/html": [
              "\n",
              "  <div id=\"df-2ac33ec8-8abf-464c-a836-cdce03ba51b0\">\n",
              "    <div class=\"colab-df-container\">\n",
              "      <div>\n",
              "<style scoped>\n",
              "    .dataframe tbody tr th:only-of-type {\n",
              "        vertical-align: middle;\n",
              "    }\n",
              "\n",
              "    .dataframe tbody tr th {\n",
              "        vertical-align: top;\n",
              "    }\n",
              "\n",
              "    .dataframe thead th {\n",
              "        text-align: right;\n",
              "    }\n",
              "</style>\n",
              "<table border=\"1\" class=\"dataframe\">\n",
              "  <thead>\n",
              "    <tr style=\"text-align: right;\">\n",
              "      <th></th>\n",
              "      <th>Unnamed: 0</th>\n",
              "      <th>label</th>\n",
              "      <th>text</th>\n",
              "      <th>label_num</th>\n",
              "    </tr>\n",
              "  </thead>\n",
              "  <tbody>\n",
              "    <tr>\n",
              "      <th>0</th>\n",
              "      <td>605</td>\n",
              "      <td>ham</td>\n",
              "      <td>Subject: enron methanol ; meter # : 988291\\r\\n...</td>\n",
              "      <td>0</td>\n",
              "    </tr>\n",
              "    <tr>\n",
              "      <th>1</th>\n",
              "      <td>2349</td>\n",
              "      <td>ham</td>\n",
              "      <td>Subject: hpl nom for january 9 , 2001\\r\\n( see...</td>\n",
              "      <td>0</td>\n",
              "    </tr>\n",
              "    <tr>\n",
              "      <th>2</th>\n",
              "      <td>3624</td>\n",
              "      <td>ham</td>\n",
              "      <td>Subject: neon retreat\\r\\nho ho ho , we ' re ar...</td>\n",
              "      <td>0</td>\n",
              "    </tr>\n",
              "    <tr>\n",
              "      <th>3</th>\n",
              "      <td>4685</td>\n",
              "      <td>spam</td>\n",
              "      <td>Subject: photoshop , windows , office . cheap ...</td>\n",
              "      <td>1</td>\n",
              "    </tr>\n",
              "    <tr>\n",
              "      <th>4</th>\n",
              "      <td>2030</td>\n",
              "      <td>ham</td>\n",
              "      <td>Subject: re : indian springs\\r\\nthis deal is t...</td>\n",
              "      <td>0</td>\n",
              "    </tr>\n",
              "  </tbody>\n",
              "</table>\n",
              "</div>\n",
              "      <button class=\"colab-df-convert\" onclick=\"convertToInteractive('df-2ac33ec8-8abf-464c-a836-cdce03ba51b0')\"\n",
              "              title=\"Convert this dataframe to an interactive table.\"\n",
              "              style=\"display:none;\">\n",
              "        \n",
              "  <svg xmlns=\"http://www.w3.org/2000/svg\" height=\"24px\"viewBox=\"0 0 24 24\"\n",
              "       width=\"24px\">\n",
              "    <path d=\"M0 0h24v24H0V0z\" fill=\"none\"/>\n",
              "    <path d=\"M18.56 5.44l.94 2.06.94-2.06 2.06-.94-2.06-.94-.94-2.06-.94 2.06-2.06.94zm-11 1L8.5 8.5l.94-2.06 2.06-.94-2.06-.94L8.5 2.5l-.94 2.06-2.06.94zm10 10l.94 2.06.94-2.06 2.06-.94-2.06-.94-.94-2.06-.94 2.06-2.06.94z\"/><path d=\"M17.41 7.96l-1.37-1.37c-.4-.4-.92-.59-1.43-.59-.52 0-1.04.2-1.43.59L10.3 9.45l-7.72 7.72c-.78.78-.78 2.05 0 2.83L4 21.41c.39.39.9.59 1.41.59.51 0 1.02-.2 1.41-.59l7.78-7.78 2.81-2.81c.8-.78.8-2.07 0-2.86zM5.41 20L4 18.59l7.72-7.72 1.47 1.35L5.41 20z\"/>\n",
              "  </svg>\n",
              "      </button>\n",
              "      \n",
              "  <style>\n",
              "    .colab-df-container {\n",
              "      display:flex;\n",
              "      flex-wrap:wrap;\n",
              "      gap: 12px;\n",
              "    }\n",
              "\n",
              "    .colab-df-convert {\n",
              "      background-color: #E8F0FE;\n",
              "      border: none;\n",
              "      border-radius: 50%;\n",
              "      cursor: pointer;\n",
              "      display: none;\n",
              "      fill: #1967D2;\n",
              "      height: 32px;\n",
              "      padding: 0 0 0 0;\n",
              "      width: 32px;\n",
              "    }\n",
              "\n",
              "    .colab-df-convert:hover {\n",
              "      background-color: #E2EBFA;\n",
              "      box-shadow: 0px 1px 2px rgba(60, 64, 67, 0.3), 0px 1px 3px 1px rgba(60, 64, 67, 0.15);\n",
              "      fill: #174EA6;\n",
              "    }\n",
              "\n",
              "    [theme=dark] .colab-df-convert {\n",
              "      background-color: #3B4455;\n",
              "      fill: #D2E3FC;\n",
              "    }\n",
              "\n",
              "    [theme=dark] .colab-df-convert:hover {\n",
              "      background-color: #434B5C;\n",
              "      box-shadow: 0px 1px 3px 1px rgba(0, 0, 0, 0.15);\n",
              "      filter: drop-shadow(0px 1px 2px rgba(0, 0, 0, 0.3));\n",
              "      fill: #FFFFFF;\n",
              "    }\n",
              "  </style>\n",
              "\n",
              "      <script>\n",
              "        const buttonEl =\n",
              "          document.querySelector('#df-2ac33ec8-8abf-464c-a836-cdce03ba51b0 button.colab-df-convert');\n",
              "        buttonEl.style.display =\n",
              "          google.colab.kernel.accessAllowed ? 'block' : 'none';\n",
              "\n",
              "        async function convertToInteractive(key) {\n",
              "          const element = document.querySelector('#df-2ac33ec8-8abf-464c-a836-cdce03ba51b0');\n",
              "          const dataTable =\n",
              "            await google.colab.kernel.invokeFunction('convertToInteractive',\n",
              "                                                     [key], {});\n",
              "          if (!dataTable) return;\n",
              "\n",
              "          const docLinkHtml = 'Like what you see? Visit the ' +\n",
              "            '<a target=\"_blank\" href=https://colab.research.google.com/notebooks/data_table.ipynb>data table notebook</a>'\n",
              "            + ' to learn more about interactive tables.';\n",
              "          element.innerHTML = '';\n",
              "          dataTable['output_type'] = 'display_data';\n",
              "          await google.colab.output.renderOutput(dataTable, element);\n",
              "          const docLink = document.createElement('div');\n",
              "          docLink.innerHTML = docLinkHtml;\n",
              "          element.appendChild(docLink);\n",
              "        }\n",
              "      </script>\n",
              "    </div>\n",
              "  </div>\n",
              "  "
            ]
          },
          "metadata": {},
          "execution_count": 4
        }
      ],
      "source": [
        "dataset.head()"
      ]
    },
    {
      "cell_type": "code",
      "execution_count": null,
      "metadata": {
        "colab": {
          "base_uri": "https://localhost:8080/",
          "height": 206
        },
        "id": "Q2P6F8Dg--QP",
        "outputId": "76bb9aa5-b231-4cd3-8751-87c7c823bdf7"
      },
      "outputs": [
        {
          "output_type": "execute_result",
          "data": {
            "text/plain": [
              "  label                                               text\n",
              "0   ham  Subject: enron methanol ; meter # : 988291\\r\\n...\n",
              "1   ham  Subject: hpl nom for january 9 , 2001\\r\\n( see...\n",
              "2   ham  Subject: neon retreat\\r\\nho ho ho , we ' re ar...\n",
              "3  spam  Subject: photoshop , windows , office . cheap ...\n",
              "4   ham  Subject: re : indian springs\\r\\nthis deal is t..."
            ],
            "text/html": [
              "\n",
              "  <div id=\"df-67580593-5ba2-4b44-a558-8ff1825fb818\">\n",
              "    <div class=\"colab-df-container\">\n",
              "      <div>\n",
              "<style scoped>\n",
              "    .dataframe tbody tr th:only-of-type {\n",
              "        vertical-align: middle;\n",
              "    }\n",
              "\n",
              "    .dataframe tbody tr th {\n",
              "        vertical-align: top;\n",
              "    }\n",
              "\n",
              "    .dataframe thead th {\n",
              "        text-align: right;\n",
              "    }\n",
              "</style>\n",
              "<table border=\"1\" class=\"dataframe\">\n",
              "  <thead>\n",
              "    <tr style=\"text-align: right;\">\n",
              "      <th></th>\n",
              "      <th>label</th>\n",
              "      <th>text</th>\n",
              "    </tr>\n",
              "  </thead>\n",
              "  <tbody>\n",
              "    <tr>\n",
              "      <th>0</th>\n",
              "      <td>ham</td>\n",
              "      <td>Subject: enron methanol ; meter # : 988291\\r\\n...</td>\n",
              "    </tr>\n",
              "    <tr>\n",
              "      <th>1</th>\n",
              "      <td>ham</td>\n",
              "      <td>Subject: hpl nom for january 9 , 2001\\r\\n( see...</td>\n",
              "    </tr>\n",
              "    <tr>\n",
              "      <th>2</th>\n",
              "      <td>ham</td>\n",
              "      <td>Subject: neon retreat\\r\\nho ho ho , we ' re ar...</td>\n",
              "    </tr>\n",
              "    <tr>\n",
              "      <th>3</th>\n",
              "      <td>spam</td>\n",
              "      <td>Subject: photoshop , windows , office . cheap ...</td>\n",
              "    </tr>\n",
              "    <tr>\n",
              "      <th>4</th>\n",
              "      <td>ham</td>\n",
              "      <td>Subject: re : indian springs\\r\\nthis deal is t...</td>\n",
              "    </tr>\n",
              "  </tbody>\n",
              "</table>\n",
              "</div>\n",
              "      <button class=\"colab-df-convert\" onclick=\"convertToInteractive('df-67580593-5ba2-4b44-a558-8ff1825fb818')\"\n",
              "              title=\"Convert this dataframe to an interactive table.\"\n",
              "              style=\"display:none;\">\n",
              "        \n",
              "  <svg xmlns=\"http://www.w3.org/2000/svg\" height=\"24px\"viewBox=\"0 0 24 24\"\n",
              "       width=\"24px\">\n",
              "    <path d=\"M0 0h24v24H0V0z\" fill=\"none\"/>\n",
              "    <path d=\"M18.56 5.44l.94 2.06.94-2.06 2.06-.94-2.06-.94-.94-2.06-.94 2.06-2.06.94zm-11 1L8.5 8.5l.94-2.06 2.06-.94-2.06-.94L8.5 2.5l-.94 2.06-2.06.94zm10 10l.94 2.06.94-2.06 2.06-.94-2.06-.94-.94-2.06-.94 2.06-2.06.94z\"/><path d=\"M17.41 7.96l-1.37-1.37c-.4-.4-.92-.59-1.43-.59-.52 0-1.04.2-1.43.59L10.3 9.45l-7.72 7.72c-.78.78-.78 2.05 0 2.83L4 21.41c.39.39.9.59 1.41.59.51 0 1.02-.2 1.41-.59l7.78-7.78 2.81-2.81c.8-.78.8-2.07 0-2.86zM5.41 20L4 18.59l7.72-7.72 1.47 1.35L5.41 20z\"/>\n",
              "  </svg>\n",
              "      </button>\n",
              "      \n",
              "  <style>\n",
              "    .colab-df-container {\n",
              "      display:flex;\n",
              "      flex-wrap:wrap;\n",
              "      gap: 12px;\n",
              "    }\n",
              "\n",
              "    .colab-df-convert {\n",
              "      background-color: #E8F0FE;\n",
              "      border: none;\n",
              "      border-radius: 50%;\n",
              "      cursor: pointer;\n",
              "      display: none;\n",
              "      fill: #1967D2;\n",
              "      height: 32px;\n",
              "      padding: 0 0 0 0;\n",
              "      width: 32px;\n",
              "    }\n",
              "\n",
              "    .colab-df-convert:hover {\n",
              "      background-color: #E2EBFA;\n",
              "      box-shadow: 0px 1px 2px rgba(60, 64, 67, 0.3), 0px 1px 3px 1px rgba(60, 64, 67, 0.15);\n",
              "      fill: #174EA6;\n",
              "    }\n",
              "\n",
              "    [theme=dark] .colab-df-convert {\n",
              "      background-color: #3B4455;\n",
              "      fill: #D2E3FC;\n",
              "    }\n",
              "\n",
              "    [theme=dark] .colab-df-convert:hover {\n",
              "      background-color: #434B5C;\n",
              "      box-shadow: 0px 1px 3px 1px rgba(0, 0, 0, 0.15);\n",
              "      filter: drop-shadow(0px 1px 2px rgba(0, 0, 0, 0.3));\n",
              "      fill: #FFFFFF;\n",
              "    }\n",
              "  </style>\n",
              "\n",
              "      <script>\n",
              "        const buttonEl =\n",
              "          document.querySelector('#df-67580593-5ba2-4b44-a558-8ff1825fb818 button.colab-df-convert');\n",
              "        buttonEl.style.display =\n",
              "          google.colab.kernel.accessAllowed ? 'block' : 'none';\n",
              "\n",
              "        async function convertToInteractive(key) {\n",
              "          const element = document.querySelector('#df-67580593-5ba2-4b44-a558-8ff1825fb818');\n",
              "          const dataTable =\n",
              "            await google.colab.kernel.invokeFunction('convertToInteractive',\n",
              "                                                     [key], {});\n",
              "          if (!dataTable) return;\n",
              "\n",
              "          const docLinkHtml = 'Like what you see? Visit the ' +\n",
              "            '<a target=\"_blank\" href=https://colab.research.google.com/notebooks/data_table.ipynb>data table notebook</a>'\n",
              "            + ' to learn more about interactive tables.';\n",
              "          element.innerHTML = '';\n",
              "          dataTable['output_type'] = 'display_data';\n",
              "          await google.colab.output.renderOutput(dataTable, element);\n",
              "          const docLink = document.createElement('div');\n",
              "          docLink.innerHTML = docLinkHtml;\n",
              "          element.appendChild(docLink);\n",
              "        }\n",
              "      </script>\n",
              "    </div>\n",
              "  </div>\n",
              "  "
            ]
          },
          "metadata": {},
          "execution_count": 5
        }
      ],
      "source": [
        "dataset.drop(columns=['Unnamed: 0', 'label_num'], axis = 1, inplace = True)\n",
        "dataset.head()"
      ]
    },
    {
      "cell_type": "code",
      "execution_count": null,
      "metadata": {
        "colab": {
          "base_uri": "https://localhost:8080/"
        },
        "id": "pfhXO_vBYN45",
        "outputId": "6aca20c2-fbff-4edb-87a1-494eac12fc46"
      },
      "outputs": [
        {
          "output_type": "stream",
          "name": "stdout",
          "text": [
            "[nltk_data] Downloading package stopwords to /root/nltk_data...\n",
            "[nltk_data]   Unzipping corpora/stopwords.zip.\n"
          ]
        }
      ],
      "source": [
        "import re\n",
        "import string\n",
        "import nltk\n",
        "nltk.download('stopwords')\n",
        "from nltk.corpus import stopwords\n",
        "from nltk import PorterStemmer as Stemmer\n",
        "\n",
        "def process(text):\n",
        "    # make lowercase\n",
        "    text = text.lower()\n",
        "    # remove punctuation\n",
        "    text = ''.join([t for t in text if t not in string.punctuation])\n",
        "    # remove stopwords\n",
        "    text = [t for t in text.split() if t not in stopwords.words('english')]\n",
        "    # stemming\n",
        "    st = Stemmer()\n",
        "    text = [st.stem(t) for t in text]\n",
        "    # return token list\n",
        "    return text"
      ]
    },
    {
      "cell_type": "code",
      "execution_count": null,
      "metadata": {
        "id": "aPvEqZLtYkfh"
      },
      "outputs": [],
      "source": [
        "from sklearn.feature_extraction.text import TfidfVectorizer\n",
        "\n",
        "tfidfv = TfidfVectorizer(analyzer=process)\n",
        "data = tfidfv.fit_transform(dataset['text'])"
      ]
    },
    {
      "cell_type": "code",
      "execution_count": null,
      "metadata": {
        "id": "aAl-X_5UYtHH"
      },
      "outputs": [],
      "source": [
        "from sklearn.pipeline import Pipeline\n",
        "from sklearn.naive_bayes import MultinomialNB\n",
        "\n",
        "spam_filter = Pipeline([\n",
        "    ('vectorizer', TfidfVectorizer(analyzer=process)), # TFIDF score\n",
        "    ('classifier', MultinomialNB())                    # Naive Bayes classifier\n",
        "])"
      ]
    },
    {
      "cell_type": "code",
      "execution_count": null,
      "metadata": {
        "id": "gBksLt0BcZhP"
      },
      "outputs": [],
      "source": [
        "X = dataset['text']\n",
        "y = dataset['label']\n",
        "\n",
        "X_train, X_test, y_train, y_test = train_test_split(X, y, test_size=0.3)"
      ]
    },
    {
      "cell_type": "code",
      "execution_count": null,
      "metadata": {
        "colab": {
          "base_uri": "https://localhost:8080/"
        },
        "id": "_Kn83RLdZRdc",
        "outputId": "66b17923-fea3-4f4e-c10a-6df1a971340c"
      },
      "outputs": [
        {
          "output_type": "execute_result",
          "data": {
            "text/plain": [
              "Pipeline(steps=[('vectorizer',\n",
              "                 TfidfVectorizer(analyzer=<function process at 0x7fbb3c307710>)),\n",
              "                ('classifier', MultinomialNB())])"
            ]
          },
          "metadata": {},
          "execution_count": 10
        }
      ],
      "source": [
        "spam_filter.fit(X_train, y_train)"
      ]
    },
    {
      "cell_type": "code",
      "execution_count": null,
      "metadata": {
        "id": "VCXgHknNZX0p"
      },
      "outputs": [],
      "source": [
        "predictions = spam_filter.predict(X_test)"
      ]
    },
    {
      "cell_type": "code",
      "execution_count": null,
      "metadata": {
        "colab": {
          "base_uri": "https://localhost:8080/"
        },
        "id": "5W1FiCJNZdIn",
        "outputId": "be7f3a82-5dc1-4dbb-b7ba-616eadb6ed15"
      },
      "outputs": [
        {
          "output_type": "stream",
          "name": "stdout",
          "text": [
            "Number of test emails: 1552\n",
            "Number of wrong predictions: 136\n"
          ]
        }
      ],
      "source": [
        "count = 0\n",
        "for i in range(len(y_test)):\n",
        "    if y_test.iloc[i] != predictions[i]:\n",
        "        count += 1\n",
        "print('Number of test emails:', len(y_test))\n",
        "print('Number of wrong predictions:', count)"
      ]
    },
    {
      "cell_type": "code",
      "source": [
        "from sklearn.metrics import confusion_matrix\n",
        "print(confusion_matrix(y_test, predictions))"
      ],
      "metadata": {
        "colab": {
          "base_uri": "https://localhost:8080/"
        },
        "id": "OSRKzJxiQvSL",
        "outputId": "b2826429-4266-4a57-8585-9e78f0577c04"
      },
      "execution_count": null,
      "outputs": [
        {
          "output_type": "stream",
          "name": "stdout",
          "text": [
            "[[1096    0]\n",
            " [ 136  320]]\n"
          ]
        }
      ]
    },
    {
      "cell_type": "code",
      "execution_count": null,
      "metadata": {
        "colab": {
          "base_uri": "https://localhost:8080/"
        },
        "id": "ru9S5iWpZqSC",
        "outputId": "e3d528e5-778d-4ed5-c047-b4c3b39280f7"
      },
      "outputs": [
        {
          "output_type": "stream",
          "name": "stdout",
          "text": [
            "              precision    recall  f1-score   support\n",
            "\n",
            "         ham       0.89      1.00      0.94      1096\n",
            "        spam       1.00      0.70      0.82       456\n",
            "\n",
            "    accuracy                           0.91      1552\n",
            "   macro avg       0.94      0.85      0.88      1552\n",
            "weighted avg       0.92      0.91      0.91      1552\n",
            "\n"
          ]
        }
      ],
      "source": [
        "from sklearn.metrics import classification_report\n",
        "print(classification_report(y_test, predictions))"
      ]
    },
    {
      "cell_type": "code",
      "source": [
        "import matplotlib.pyplot as plt\n",
        "from sklearn import metrics\n",
        "\n",
        "plot = metrics.plot_roc_curve(spam_filter, X_test, y_test) \n",
        "plot"
      ],
      "metadata": {
        "colab": {
          "base_uri": "https://localhost:8080/",
          "height": 352
        },
        "id": "GJ_fm57r9S4p",
        "outputId": "f89893d9-bedf-4609-9435-ff4e06610d78"
      },
      "execution_count": null,
      "outputs": [
        {
          "output_type": "stream",
          "name": "stderr",
          "text": [
            "/usr/local/lib/python3.7/dist-packages/sklearn/utils/deprecation.py:87: FutureWarning: Function plot_roc_curve is deprecated; Function :func:`plot_roc_curve` is deprecated in 1.0 and will be removed in 1.2. Use one of the class methods: :meth:`sklearn.metric.RocCurveDisplay.from_predictions` or :meth:`sklearn.metric.RocCurveDisplay.from_estimator`.\n",
            "  warnings.warn(msg, category=FutureWarning)\n"
          ]
        },
        {
          "output_type": "execute_result",
          "data": {
            "text/plain": [
              "<sklearn.metrics._plot.roc_curve.RocCurveDisplay at 0x7fbb3b285090>"
            ]
          },
          "metadata": {},
          "execution_count": 16
        },
        {
          "output_type": "display_data",
          "data": {
            "text/plain": [
              "<Figure size 432x288 with 1 Axes>"
            ],
            "image/png": "[encoded data removed]"
          },
          "metadata": {
            "needs_background": "light"
          }
        }
      ]
    },
    {
      "cell_type": "code",
      "execution_count": null,
      "metadata": {
        "colab": {
          "base_uri": "https://localhost:8080/",
          "height": 35
        },
        "id": "TUsFErkrdGN-",
        "outputId": "56af7b7e-6197-485c-b908-a5a0a4800019"
      },
      "outputs": [
        {
          "output_type": "execute_result",
          "data": {
            "text/plain": [
              "'ham'"
            ],
            "application/vnd.google.colaboratory.intrinsic+json": {
              "type": "string"
            }
          },
          "metadata": {},
          "execution_count": 17
        }
      ],
      "source": [
        "def detect_spam(s):\n",
        "    return spam_filter.predict([s])[0]\n",
        "detect_spam('I am reaching out to you about the job you applied for.')"
      ]
    },
    {
      "cell_type": "code",
      "execution_count": null,
      "metadata": {
        "colab": {
          "base_uri": "https://localhost:8080/",
          "height": 35
        },
        "id": "8I68i4-LdYg0",
        "outputId": "8af55d0a-9e8f-4d60-d191-3935d227c528"
      },
      "outputs": [
        {
          "output_type": "execute_result",
          "data": {
            "text/plain": [
              "'spam'"
            ],
            "application/vnd.google.colaboratory.intrinsic+json": {
              "type": "string"
            }
          },
          "metadata": {},
          "execution_count": 18
        }
      ],
      "source": [
        "def detect_spam(s):\n",
        "    return spam_filter.predict([s])[0]\n",
        "detect_spam('Click this link for free money!')"
      ]
    },
    {
      "cell_type": "markdown",
      "metadata": {
        "id": "OF5Q2jwca207"
      },
      "source": [
        "##Charlotte's Modeling Section\n",
        "\n",
        "RNN Model\n"
      ]
    },
    {
      "cell_type": "code",
      "execution_count": null,
      "metadata": {
        "id": "PIURTTZ_nCwK"
      },
      "outputs": [],
      "source": [
        "import pandas as pd\n",
        "import numpy as np"
      ]
    },
    {
      "cell_type": "code",
      "execution_count": null,
      "metadata": {
        "colab": {
          "base_uri": "https://localhost:8080/"
        },
        "id": "o5GF684SsSRP",
        "outputId": "51c7ce82-d6e9-4bb4-88da-2172fa88397b"
      },
      "outputs": [
        {
          "output_type": "stream",
          "name": "stdout",
          "text": [
            "No. of training examples: 3620\n",
            "No. of testing examples: 1551\n"
          ]
        }
      ],
      "source": [
        "train = dataset.sample(frac=0.7, random_state=25)\n",
        "test = dataset.drop(train.index)\n",
        "print(f\"No. of training examples: {train.shape[0]}\")\n",
        "print(f\"No. of testing examples: {test.shape[0]}\")"
      ]
    },
    {
      "cell_type": "markdown",
      "metadata": {
        "id": "jmTdvLymy-qr"
      },
      "source": [
        "Text transformation: transform text to \"tokens ids\""
      ]
    },
    {
      "cell_type": "code",
      "execution_count": null,
      "metadata": {
        "id": "fBMfUJnet5Aq"
      },
      "outputs": [],
      "source": [
        "X_train = train['label'] + ' ' + train['text']\n",
        "y_train = train['label_num']\n",
        "X_test = test['label'] + ' ' + test['text']\n",
        "y_test = test['label_num']"
      ]
    },
    {
      "cell_type": "code",
      "execution_count": null,
      "metadata": {
        "id": "SqFlriP1t2tk"
      },
      "outputs": [],
      "source": [
        "from keras.preprocessing.text import Tokenizer\n",
        "max_words = 300\n",
        "tokenizer = Tokenizer(num_words=max_words, lower=True, split=' ')\n",
        "# Only the 300 words with the highest frequency are assigned ids，ignore others\n",
        "tokenizer.fit_on_texts(list(X_train)+list(X_test)) # tokenizer train\n",
        "X_train_tokens = tokenizer.texts_to_sequences(X_train)\n",
        "X_test_tokens = tokenizer.texts_to_sequences(X_test)"
      ]
    },
    {
      "cell_type": "code",
      "execution_count": null,
      "metadata": {
        "id": "o3Heiy6TunzY"
      },
      "outputs": [],
      "source": [
        "maxlen = 100\n",
        "from keras.preprocessing import sequence\n",
        "X_train_tokens_pad = sequence.pad_sequences(X_train_tokens, maxlen=maxlen,padding='post')\n",
        "X_test_tokens_pad = sequence.pad_sequences(X_test_tokens, maxlen=maxlen,padding='post')"
      ]
    },
    {
      "cell_type": "code",
      "execution_count": null,
      "metadata": {
        "colab": {
          "base_uri": "https://localhost:8080/"
        },
        "id": "NjqLtbUIaxX2",
        "outputId": "9ad494f7-1325-46fa-bf80-70d89306c31e"
      },
      "outputs": [
        {
          "output_type": "stream",
          "name": "stdout",
          "text": [
            "Model: \"sequential\"\n",
            "_________________________________________________________________\n",
            " Layer (type)                Output Shape              Param #   \n",
            "=================================================================\n",
            " embedding (Embedding)       (None, 100, 30)           9000      \n",
            "                                                                 \n",
            " gru (GRU)                   (None, 64)                18432     \n",
            "                                                                 \n",
            " dense (Dense)               (None, 1)                 65        \n",
            "                                                                 \n",
            "=================================================================\n",
            "Total params: 27,497\n",
            "Trainable params: 27,497\n",
            "Non-trainable params: 0\n",
            "_________________________________________________________________\n"
          ]
        }
      ],
      "source": [
        "#Model building\n",
        "\n",
        "embeddings_dim = 30 # \n",
        "from keras.models import Model, Sequential\n",
        "from keras.layers import Embedding, LSTM, GRU, SimpleRNN, Dense\n",
        "model = Sequential()\n",
        "model.add(Embedding(input_dim=max_words, # Size of the vocabulary\n",
        "                    output_dim=embeddings_dim, # \n",
        "                    input_length=maxlen))\n",
        "model.add(GRU(units=64)) # could change to  SimpleRNN ， LSTM\n",
        "model.add(Dense(units=1, activation='sigmoid'))\n",
        "model.summary()"
      ]
    },
    {
      "cell_type": "code",
      "execution_count": null,
      "metadata": {
        "colab": {
          "base_uri": "https://localhost:8080/"
        },
        "id": "1lEIJPrKnB7C",
        "outputId": "a8f014d6-f569-4e82-d25b-1e1264ce4aa2"
      },
      "outputs": [
        {
          "output_type": "stream",
          "name": "stdout",
          "text": [
            "Epoch 1/10\n",
            "23/23 [==============================] - 5s 125ms/step - loss: 0.6337 - accuracy: 0.7082 - val_loss: 0.6028 - val_accuracy: 0.7210\n",
            "Epoch 2/10\n",
            "23/23 [==============================] - 2s 102ms/step - loss: 0.6009 - accuracy: 0.7113 - val_loss: 0.5798 - val_accuracy: 0.7210\n",
            "Epoch 3/10\n",
            "23/23 [==============================] - 2s 102ms/step - loss: 0.5785 - accuracy: 0.7113 - val_loss: 0.5614 - val_accuracy: 0.7210\n",
            "Epoch 4/10\n",
            "23/23 [==============================] - 3s 123ms/step - loss: 0.5568 - accuracy: 0.7141 - val_loss: 0.5387 - val_accuracy: 0.7334\n",
            "Epoch 5/10\n",
            "23/23 [==============================] - 5s 201ms/step - loss: 0.5301 - accuracy: 0.7282 - val_loss: 0.5084 - val_accuracy: 0.7459\n",
            "Epoch 6/10\n",
            "23/23 [==============================] - 3s 135ms/step - loss: 0.4648 - accuracy: 0.7655 - val_loss: 0.3598 - val_accuracy: 0.8591\n",
            "Epoch 7/10\n",
            "23/23 [==============================] - 2s 104ms/step - loss: 0.5023 - accuracy: 0.6778 - val_loss: 0.4415 - val_accuracy: 0.7569\n",
            "Epoch 8/10\n",
            "23/23 [==============================] - 2s 104ms/step - loss: 0.4380 - accuracy: 0.7503 - val_loss: 0.3168 - val_accuracy: 0.7680\n",
            "Epoch 9/10\n",
            "23/23 [==============================] - 2s 103ms/step - loss: 0.2929 - accuracy: 0.8408 - val_loss: 0.2845 - val_accuracy: 0.9061\n",
            "Epoch 10/10\n",
            "23/23 [==============================] - 2s 107ms/step - loss: 0.2542 - accuracy: 0.9244 - val_loss: 0.2674 - val_accuracy: 0.9130\n"
          ]
        }
      ],
      "source": [
        "model.compile(optimizer='adam',\n",
        "              loss='binary_crossentropy',\n",
        "              metrics=['accuracy']) # Configuration model\n",
        "history = model.fit(X_train_tokens_pad, y_train,\n",
        "                    batch_size=128, epochs=10, validation_split=0.2)\n",
        "model.save(\"email_cat_lstm.h5\") # save trained model"
      ]
    },
    {
      "cell_type": "code",
      "source": [
        "pred_prob = model.predict(X_test_tokens_pad).squeeze()\n",
        "pred_class = np.asarray(pred_prob > 0.5).astype(np.int32)"
      ],
      "metadata": {
        "id": "jE89XrPZCbtu"
      },
      "execution_count": null,
      "outputs": []
    },
    {
      "cell_type": "code",
      "source": [
        "from sklearn.metrics import accuracy_score\n",
        "print(accuracy_score(y_test, pred_class))"
      ],
      "metadata": {
        "colab": {
          "base_uri": "https://localhost:8080/"
        },
        "id": "q2SvPhwTCanp",
        "outputId": "fb4e0a59-b2a3-4b7a-e090-b2a92cf9468e"
      },
      "execution_count": null,
      "outputs": [
        {
          "output_type": "stream",
          "name": "stdout",
          "text": [
            "0.9058671824629272\n"
          ]
        }
      ]
    },
    {
      "cell_type": "code",
      "source": [
        "from sklearn.metrics import classification_report\n",
        "print(classification_report(y_test,pred_class)) #ham is 0 and spam is 1"
      ],
      "metadata": {
        "colab": {
          "base_uri": "https://localhost:8080/"
        },
        "id": "YQS5IKr8Fr5r",
        "outputId": "06d51e69-2943-4cc3-d68c-8fa3fabcab3b"
      },
      "execution_count": null,
      "outputs": [
        {
          "output_type": "stream",
          "name": "stdout",
          "text": [
            "              precision    recall  f1-score   support\n",
            "\n",
            "           0       0.96      0.90      0.93      1090\n",
            "           1       0.80      0.92      0.85       461\n",
            "\n",
            "    accuracy                           0.91      1551\n",
            "   macro avg       0.88      0.91      0.89      1551\n",
            "weighted avg       0.91      0.91      0.91      1551\n",
            "\n"
          ]
        }
      ]
    },
    {
      "cell_type": "code",
      "execution_count": null,
      "metadata": {
        "colab": {
          "base_uri": "https://localhost:8080/",
          "height": 320
        },
        "id": "iLE2lQxkvRsZ",
        "outputId": "27b92c5a-a002-49d9-d9e5-470f80da5732"
      },
      "outputs": [
        {
          "output_type": "display_data",
          "data": {
            "text/plain": [
              "<Figure size 576x360 with 1 Axes>"
            ],
            "image/png": "[encoded data removed]"
          },
          "metadata": {
            "needs_background": "light"
          }
        }
      ],
      "source": [
        "from matplotlib import pyplot as plt\n",
        "pd.DataFrame(history.history).plot(figsize=(8, 5))\n",
        "plt.grid(True)\n",
        "plt.show()"
      ]
    },
    {
      "cell_type": "markdown",
      "metadata": {
        "id": "dvzNtgHl0IDV"
      },
      "source": [
        "Out put files"
      ]
    },
    {
      "cell_type": "markdown",
      "metadata": {
        "id": "2nkmu0o1f-fY"
      },
      "source": [
        "##Cindy's Modeling Section\n",
        "\n",
        "I implement the data using spacy."
      ]
    },
    {
      "cell_type": "code",
      "execution_count": null,
      "metadata": {
        "id": "9-x-uvNEgOTG"
      },
      "outputs": [],
      "source": [
        "import pandas as pd\n",
        "import spacy"
      ]
    },
    {
      "cell_type": "code",
      "execution_count": null,
      "metadata": {
        "colab": {
          "base_uri": "https://localhost:8080/"
        },
        "id": "zqyOyqXyum__",
        "outputId": "b0cfc310-275d-4827-b12e-ad1fb999c2aa"
      },
      "outputs": [
        {
          "output_type": "stream",
          "name": "stdout",
          "text": [
            "No. of training examples: 3620\n",
            "No. of testing examples: 1551\n"
          ]
        }
      ],
      "source": [
        "train = dataset.sample(frac=0.7, random_state=25)\n",
        "test = dataset.drop(train.index)\n",
        "print(f\"No. of training examples: {train.shape[0]}\")\n",
        "print(f\"No. of testing examples: {test.shape[0]}\")"
      ]
    },
    {
      "cell_type": "code",
      "execution_count": null,
      "metadata": {
        "id": "2hM04SsOzEXf"
      },
      "outputs": [],
      "source": [
        "train['label'] = [{\"spam\": bool(y), \"ham\": not bool(y)}\n",
        "                  for y in train.label_num.values]"
      ]
    },
    {
      "cell_type": "code",
      "source": [
        "train['label']"
      ],
      "metadata": {
        "id": "mlu8BfRixtlW",
        "outputId": "92406dd5-c13b-4456-c2f8-05c96fdc7ece",
        "colab": {
          "base_uri": "https://localhost:8080/"
        }
      },
      "execution_count": null,
      "outputs": [
        {
          "output_type": "execute_result",
          "data": {
            "text/plain": [
              "5016    {'spam': False, 'ham': True}\n",
              "1635    {'spam': False, 'ham': True}\n",
              "3756    {'spam': False, 'ham': True}\n",
              "3470    {'spam': True, 'ham': False}\n",
              "4849    {'spam': False, 'ham': True}\n",
              "                    ...             \n",
              "2765    {'spam': False, 'ham': True}\n",
              "2630    {'spam': False, 'ham': True}\n",
              "1041    {'spam': False, 'ham': True}\n",
              "4715    {'spam': False, 'ham': True}\n",
              "1775    {'spam': False, 'ham': True}\n",
              "Name: label, Length: 3620, dtype: object"
            ]
          },
          "metadata": {},
          "execution_count": 7
        }
      ]
    },
    {
      "cell_type": "code",
      "execution_count": null,
      "metadata": {
        "colab": {
          "base_uri": "https://localhost:8080/"
        },
        "id": "nmG_YYg7vGpt",
        "outputId": "df7874be-964e-459d-e0bf-818ea04f41da"
      },
      "outputs": [
        {
          "output_type": "stream",
          "name": "stdout",
          "text": [
            "0    0.713398\n",
            "1    0.286602\n",
            "Name: label_num, dtype: float64\n",
            "0    0.712707\n",
            "1    0.287293\n",
            "Name: label_num, dtype: float64\n"
          ]
        }
      ],
      "source": [
        "from sklearn.model_selection import StratifiedShuffleSplit\n",
        "splt = StratifiedShuffleSplit(n_splits=1, test_size=0.2, random_state=1)\n",
        "for train_idx, valid_idx in splt.split(train, train['label_num']):\n",
        "  train_set = train.iloc[train_idx]\n",
        "  valid_set = train.iloc[valid_idx]\n",
        "\n",
        "print(train_set['label_num'].value_counts()/len(train_set))\n",
        "print(valid_set['label_num'].value_counts()/len(valid_set))"
      ]
    },
    {
      "cell_type": "code",
      "execution_count": null,
      "metadata": {
        "id": "GZGS2nBVwAMh"
      },
      "outputs": [],
      "source": [
        "train_text = train_set['text'].values\n",
        "train_label = train_set['label']\n",
        "valid_text = valid_set['text'].values\n",
        "valid_label = valid_set['label']\n",
        "\n",
        "train_label = [{\"cats\": label} for label in train_label]\n",
        "valid_label = [{\"cats\": label} for label in valid_label]\n",
        "\n",
        "train_data = list(zip(train_text, train_label)) \n",
        "\n",
        "test_text = (test['text']).values"
      ]
    },
    {
      "cell_type": "code",
      "source": [
        "test_label = (test['label_num']).values"
      ],
      "metadata": {
        "id": "ufearhr5SGLR"
      },
      "execution_count": null,
      "outputs": []
    },
    {
      "cell_type": "code",
      "execution_count": null,
      "metadata": {
        "colab": {
          "base_uri": "https://localhost:8080/"
        },
        "id": "y5nasa6ZwhH3",
        "outputId": "25c0e07a-7b17-49cd-bfa8-3d67a5f697d8"
      },
      "outputs": [
        {
          "output_type": "stream",
          "name": "stdout",
          "text": [
            "{'cats': {'spam': False, 'ham': True}}\n"
          ]
        }
      ],
      "source": [
        "print(train_label[0])"
      ]
    },
    {
      "cell_type": "code",
      "execution_count": null,
      "metadata": {
        "id": "ITwARodXwn9Y"
      },
      "outputs": [],
      "source": [
        "nlp = spacy.blank('en')\n",
        "email_cat = nlp.create_pipe('textcat')"
      ]
    },
    {
      "cell_type": "code",
      "execution_count": null,
      "metadata": {
        "id": "Oe_2M9qSxDVz"
      },
      "outputs": [],
      "source": [
        "nlp.add_pipe(email_cat)"
      ]
    },
    {
      "cell_type": "code",
      "execution_count": null,
      "metadata": {
        "colab": {
          "base_uri": "https://localhost:8080/"
        },
        "id": "VBSLNmAyxIir",
        "outputId": "8a8d7cf8-43c8-4f28-c46e-169535b162f8"
      },
      "outputs": [
        {
          "output_type": "execute_result",
          "data": {
            "text/plain": [
              "1"
            ]
          },
          "metadata": {},
          "execution_count": 14
        }
      ],
      "source": [
        "email_cat.add_label(\"ham\")\n",
        "email_cat.add_label(\"spam\")"
      ]
    },
    {
      "cell_type": "code",
      "execution_count": null,
      "metadata": {
        "id": "M0JfGcdXxPFR"
      },
      "outputs": [],
      "source": [
        "from spacy.util import minibatch\n",
        "import random\n",
        "def train(model, train, optimizer, batch_size=8):\n",
        "  loss={}\n",
        "  random.seed(1)\n",
        "  random.shuffle(train)\n",
        "  batches = minibatch(train, size=batch_size)\n",
        "  for batch in batches:\n",
        "    text, label=zip(*batch)\n",
        "    model.update(text, label, sgd=optimizer, losses=loss)\n",
        "  return loss"
      ]
    },
    {
      "cell_type": "code",
      "execution_count": null,
      "metadata": {
        "id": "ONZ9vYOpxnAk"
      },
      "outputs": [],
      "source": [
        "def predict(model, text):\n",
        "  docs = [model.tokenizer(txt) for txt in text]\n",
        "  emailpred = model.get_pipe('textcat')\n",
        "  score,_=emailpred.predict(docs)\n",
        "  pred_label=score.argmax(axis=1)\n",
        "  return pred_label"
      ]
    },
    {
      "cell_type": "code",
      "execution_count": null,
      "metadata": {
        "id": "_gDTqU9Bxodw"
      },
      "outputs": [],
      "source": [
        "def evaluate(model, text, label):\n",
        "  pred = predict(model, text)\n",
        "  true_class = [int(lab['cats']['spam']) for lab in label]\n",
        "  correct = (pred == true_class)\n",
        "  acc = sum(correct)/len(correct)\n",
        "  return acc"
      ]
    },
    {
      "cell_type": "code",
      "execution_count": null,
      "metadata": {
        "colab": {
          "base_uri": "https://localhost:8080/"
        },
        "id": "qLok0GlryNUA",
        "outputId": "5406015d-1da7-4870-91a3-b0758e0bc02b"
      },
      "outputs": [
        {
          "output_type": "stream",
          "name": "stdout",
          "text": [
            "Loss: 0.902 \t Accuracy: 0.939\n",
            "Loss: 0.226 \t Accuracy: 0.967\n",
            "Loss: 0.106 \t Accuracy: 0.970\n",
            "Loss: 0.112 \t Accuracy: 0.961\n",
            "Loss: 0.062 \t Accuracy: 0.946\n",
            "Loss: 0.043 \t Accuracy: 0.967\n",
            "Loss: 0.056 \t Accuracy: 0.953\n",
            "Loss: 0.045 \t Accuracy: 0.961\n",
            "Loss: 0.027 \t Accuracy: 0.961\n",
            "Loss: 0.065 \t Accuracy: 0.971\n"
          ]
        }
      ],
      "source": [
        "n = 10\n",
        "opt = nlp.begin_training()\n",
        "for i in range(n):\n",
        "  loss = train(nlp, train_data, opt)\n",
        "  acc = evaluate(nlp, valid_text, valid_label)\n",
        "  print(f\"Loss: {loss['textcat']:.3f} \\t Accuracy: {acc:.3f}\")"
      ]
    },
    {
      "cell_type": "code",
      "execution_count": null,
      "metadata": {
        "id": "yMT0CRpPDl33",
        "colab": {
          "base_uri": "https://localhost:8080/"
        },
        "outputId": "8ff35170-ee7b-40b7-bc64-39606fc4901c"
      },
      "outputs": [
        {
          "output_type": "stream",
          "name": "stdout",
          "text": [
            "              precision    recall  f1-score   support\n",
            "\n",
            "           0       0.96      0.99      0.97      1090\n",
            "           1       0.98      0.89      0.94       461\n",
            "\n",
            "    accuracy                           0.96      1551\n",
            "   macro avg       0.97      0.94      0.95      1551\n",
            "weighted avg       0.96      0.96      0.96      1551\n",
            "\n"
          ]
        }
      ],
      "source": [
        "pred = predict(nlp, test_text)\n",
        "from sklearn.metrics import classification_report\n",
        "print(classification_report(test_label, pred))"
      ]
    }
  ],
  "metadata": {
    "colab": {
      "collapsed_sections": [
        "62r98wtj18XA",
        "p1pUxNhQvv_0",
        "IqIiQ7YmwD_9",
        "ShzpsepnwOi8",
        "R-3i6W53vJjQ"
      ],
      "provenance": []
    },
    "kernelspec": {
      "display_name": "Python 3",
      "name": "python3"
    },
    "language_info": {
      "name": "python"
    }
  },
  "nbformat": 4,
  "nbformat_minor": 0
}